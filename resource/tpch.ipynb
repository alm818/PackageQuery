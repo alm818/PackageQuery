{
 "cells": [
  {
   "cell_type": "code",
   "execution_count": 1,
   "id": "4387d381",
   "metadata": {},
   "outputs": [],
   "source": [
    "import os, subprocess\n",
    "import multiprocessing as mp"
   ]
  },
  {
   "cell_type": "code",
   "execution_count": 2,
   "id": "b58af2c1",
   "metadata": {},
   "outputs": [],
   "source": [
    "config = {}\n",
    "config_file = open(\"../config.txt\", 'r')\n",
    "for l in config_file:\n",
    "    l = l.strip()\n",
    "    if len(l) > 0 and l[0] != \"#\":\n",
    "        key, value = [x.strip() for x in l.split(\"=\")]\n",
    "        config[key] = value\n",
    "\n",
    "import psycopg\n",
    "table_name = \"tpch\"\n",
    "\n",
    "# Connect to an existing database\n",
    "with psycopg.connect(\"dbname={} host={} port={} user={} password={}\".format(config[\"database\"], config[\"hostname\"], config[\"port\"], config[\"username\"], config[\"password\"])) as conn:\n",
    "    with conn.cursor() as cur:\n",
    "        cur.execute(\"\"\"DROP TABLE IF EXISTS {}\"\"\".format(table_name))\n",
    "        cur.execute(\"\"\"\n",
    "        CREATE TABLE IF NOT EXISTS {} (\n",
    "            {} BIGINT,\n",
    "            quantity DOUBLE PRECISION,\n",
    "            price DOUBLE PRECISION,\n",
    "            discount DOUBLE PRECISION,\n",
    "            tax DOUBLE PRECISION)\n",
    "        \"\"\".format(table_name, config[\"id_column\"]))\n",
    "        conn.commit()"
   ]
  },
  {
   "cell_type": "code",
   "execution_count": 3,
   "id": "f94d6f34",
   "metadata": {},
   "outputs": [],
   "source": [
    "if not os.path.exists(\"tpch-kit\"):\n",
    "    result = subprocess.run(\"\"\"\n",
    "        git clone https://github.com/gregrahn/tpch-kit.git;\n",
    "        cd tpch-kit/dbgen;\n",
    "        make MACHINE=LINUX DATABASE=POSTGRESQL\n",
    "    \"\"\", shell=True, stdout=subprocess.PIPE, stderr=subprocess.STDOUT)\n",
    "    if result.returncode == 0:\n",
    "        print(\"git clone and make succesffully\")\n",
    "    else:\n",
    "        print(\"Error when executing git clone and make\")"
   ]
  },
  {
   "cell_type": "code",
   "execution_count": 4,
   "id": "9b678e31",
   "metadata": {},
   "outputs": [],
   "source": [
    "sf = 300\n",
    "thread = 44\n",
    "global_size = mp.Value(\"i\", 0)\n",
    "def generating_data(global_size, sf, thread):\n",
    "    file_name = \"tpch-kit/dbgen/lineitem.tbl.{}\".format(thread)\n",
    "    if not os.path.exists(file_name):\n",
    "        result = subprocess.run(\"\"\"\n",
    "            cd tpch-kit/dbgen; \n",
    "            ./dbgen -s {} -S {} -C {} -T L\n",
    "        \"\"\".format(sf, thread, sf), shell=True, stdout=subprocess.PIPE, stderr=subprocess.STDOUT)\n",
    "        if result.returncode != 0:\n",
    "            print(\"Error when executing dbgen for thread\", thread)\n",
    "    if os.path.exists(file_name):\n",
    "        size = 0\n",
    "        data = []\n",
    "        for row in open(file_name):\n",
    "            q, p, d, t = [float(x) for x in row.split(\"|\")[4:8]]\n",
    "            d *= p\n",
    "            t *= p\n",
    "            data.append([q, p, d, t])\n",
    "            size += 1\n",
    "        start_index = -1\n",
    "        with global_size.get_lock():\n",
    "            start_index = global_size.value+1\n",
    "            global_size.value += size\n",
    "            print(\"Thread:\", thread, \"Start_index:\", start_index, \"Size:\", size)\n",
    "        with psycopg.connect(\"dbname={} host={} port={} user={} password={}\".format(config[\"database\"], config[\"hostname\"], config[\"port\"], config[\"username\"], config[\"password\"])) as conn:\n",
    "            with conn.cursor() as cur:\n",
    "                with cur.copy(\"COPY tpch ({}, quantity, price, discount, tax) FROM STDIN\".format(config[\"id_column\"])) as copy:\n",
    "                    for i, row in enumerate(data):\n",
    "                        copy.write_row([start_index + i] + row)\n",
    "            conn.commit()\n",
    "        print(\"Thread\", thread, \"finished inserting\", size, \"rows\")"
   ]
  },
  {
   "cell_type": "code",
   "execution_count": 10,
   "id": "7825e528",
   "metadata": {},
   "outputs": [
    {
     "name": "stdout",
     "output_type": "stream",
     "text": [
      "1 65\n",
      "65 129\n",
      "129 193\n",
      "193 257\n",
      "257 300\n"
     ]
    }
   ],
   "source": [
    "size = int(config[\"main_memory_size\"]) // 4\n",
    "for i in range(1, sf, size):\n",
    "    a = i\n",
    "    b = min(i + size, sf)\n",
    "    print(\"Start collecting range ({},{})\".format(a, b))\n",
    "    ps = [mp.Process(target = generating_data, args = (global_size, sf, i)) for i in range(a, b+1)]\n",
    "    for p in ps:\n",
    "        p.start()\n",
    "    for p in ps:\n",
    "        p.join()"
   ]
  },
  {
   "cell_type": "code",
   "execution_count": 37,
   "id": "6b9a57a1",
   "metadata": {},
   "outputs": [],
   "source": [
    "print(\"Starts indexing tpch\")\n",
    "with psycopg.connect(\"dbname={} host={} port={} user={} password={}\".format(config[\"database\"], config[\"hostname\"], config[\"port\"], config[\"username\"], config[\"password\"])) as conn:\n",
    "    with conn.cursor() as cur:\n",
    "        cur.execute(\"\"\"ALTER TABLE {} ADD PRIMARY KEY ({})\"\"\".format(table_name, config[\"id_column\"]))\n",
    "        conn.commit()\n",
    "print(\"Finished indexing tpch\")"
   ]
  },
  {
   "cell_type": "code",
   "execution_count": null,
   "id": "aebf2349",
   "metadata": {},
   "outputs": [],
   "source": []
  }
 ],
 "metadata": {
  "kernelspec": {
   "display_name": "Python 3 (ipykernel)",
   "language": "python",
   "name": "python3"
  },
  "language_info": {
   "codemirror_mode": {
    "name": "ipython",
    "version": 3
   },
   "file_extension": ".py",
   "mimetype": "text/x-python",
   "name": "python",
   "nbconvert_exporter": "python",
   "pygments_lexer": "ipython3",
   "version": "3.8.10"
  }
 },
 "nbformat": 4,
 "nbformat_minor": 5
}
